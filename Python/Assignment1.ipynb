{
 "cells": [
  {
   "cell_type": "markdown",
   "metadata": {},
   "source": [
    " 1) <b><i>Input a string of odd length,print a string made of 3 middle characters from input string.</i></b>"
   ]
  },
  {
   "cell_type": "code",
   "execution_count": 130,
   "metadata": {},
   "outputs": [
    {
     "name": "stdout",
     "output_type": "stream",
     "text": [
      "enter string of odd length: abcdefghi\n",
      "middle three chars are: def\n"
     ]
    }
   ],
   "source": [
    "a=input(\"enter string of odd length: \")\n",
    "n=len(a) #Returns length of string a.\n",
    "mx=int(len(a)/2) #To find the middle index. \n",
    "midthree=a[mx-1:mx+2]  #Gives middle three characters.\n",
    "print(\"middle three chars are:\",midthree)    \n",
    "                                              \n",
    "                                    \n",
    "\n",
    "    \n",
    "    "
   ]
  },
  {
   "cell_type": "markdown",
   "metadata": {},
   "source": [
    "2) <b><i>Calculate sum and average of first n natural numbers.</i></b>"
   ]
  },
  {
   "cell_type": "code",
   "execution_count": null,
   "metadata": {},
   "outputs": [],
   "source": [
    "#A.Using for loop:\n",
    "\n",
    "n=int(input(\"Enter the limit: \"))\n",
    "sum=0\n",
    "for i in range(1,n+1): #iterating n times. \n",
    "    sum=sum+i #calculate sum of natural numbers upto n.\n",
    "avg=sum/n #calculat average of natural numbers upto n.\n",
    "print(\"Sum of first n natural numbers is:\",sum) #printing sum. \n",
    "print(\"Average of first n natural numbers is:\",avg) #printing average."
   ]
  },
  {
   "cell_type": "code",
   "execution_count": 3,
   "metadata": {},
   "outputs": [
    {
     "name": "stdout",
     "output_type": "stream",
     "text": [
      "Enter the limit:9\n",
      "Sum of first 9 natural numbers is:  45\n",
      "Average of first 9 natural numbers is:  5.0\n"
     ]
    }
   ],
   "source": [
    "#B.Using while loop:\n",
    "\n",
    "n=int(input(\"Enter the limit:\"))#take a no as limit from user.\n",
    "sum=0\n",
    "i=1\n",
    "while i<n+1: #iterating n times.\n",
    "    sum=sum+i #Calculate sum of natural numbers upto n.\n",
    "    i=i+1\n",
    "avg=sum/n #calculate average of natural numbers upto n.\n",
    "print(\"Sum of first {} natural numbers is: \".format(n),sum)#printing sum of first n natural numbers.\n",
    "print(\"Average of first {} natural numbers is: \".format(n),avg)#printing average of first n natural numbers\n",
    "\n",
    "   "
   ]
  },
  {
   "cell_type": "markdown",
   "metadata": {},
   "source": [
    "3) <b><i>Accept list of 5 float numbers as input from user using loop and store values in a list</i></b>"
   ]
  },
  {
   "cell_type": "code",
   "execution_count": 64,
   "metadata": {
    "scrolled": true
   },
   "outputs": [
    {
     "name": "stdout",
     "output_type": "stream",
     "text": [
      "Enter the number 1 \n",
      "1\n",
      "Enter the number 2 \n",
      "2\n",
      "Enter the number 3 \n",
      "3\n",
      "Enter the number 4 \n",
      "4\n",
      "Enter the number 5 \n",
      "5\n",
      "The list is: \n",
      " [1.0, 2.0, 3.0, 4.0, 5.0]\n"
     ]
    }
   ],
   "source": [
    "n = 5\n",
    "listk = [] #Creating an empty list.\n",
    "for i in range(0, n):\n",
    "    print(\"Enter the number {} \".format(i+1))\n",
    "    c=float(input()) #takes no from user as float and assigns to variable c.\n",
    "    listk.append(c) #storing values to created list.\n",
    "print (\"The list is: \\n\",listk) #printing created list\n",
    "\n",
    "     \n",
    "    \n",
    "    \n",
    "    \n",
    " "
   ]
  },
  {
   "cell_type": "markdown",
   "metadata": {
    "collapsed": true
   },
   "source": [
    "4) <b><i>Print the following pattern:</i></b>\n",
    " "
   ]
  },
  {
   "cell_type": "code",
   "execution_count": 131,
   "metadata": {},
   "outputs": [
    {
     "name": "stdout",
     "output_type": "stream",
     "text": [
      " \n",
      "1  \n",
      "1 2  \n",
      "1 2 3  \n",
      "1 2 3 4  \n",
      "1 2 3 4 5  \n"
     ]
    }
   ],
   "source": [
    "# A) 1\n",
    "#    1 2 \n",
    "#    1 2 3\n",
    "#    1 2 3 4\n",
    "#    1 2 3 4 5\n",
    "\n",
    "rows=6 #rows we need.\n",
    "for i in range(1,rows+1): #iterating rows. \n",
    "    for j in range(1,i): #iterating coloumns\n",
    "        print(j,end=\" \") #print number\n",
    "        \n",
    "    print(\" \") #go to next line after each row to get correct pattern.\n",
    "    \n",
    "    \n",
    "    \n",
    "    \n",
    "    "
   ]
  },
  {
   "cell_type": "code",
   "execution_count": 1,
   "metadata": {},
   "outputs": [
    {
     "name": "stdout",
     "output_type": "stream",
     "text": [
      "5 4 3 2 1  \n",
      "4 3 2 1  \n",
      "3 2 1  \n",
      "2 1  \n",
      "1  \n",
      " \n"
     ]
    }
   ],
   "source": [
    "#B)  5 4 3 2 1\n",
    "#    4 3 2 1\n",
    "#    3 2 1\n",
    "#    2 1\n",
    "#    1\n",
    "\n",
    "rows=6 #rows we need.\n",
    "for i in range(1,rows+1):\n",
    "    for j in range(rows-i,0,-1):\n",
    "        print(j,end=\" \") #printing numbers\n",
    "    print(\" \") #go to next line after each row to get correct pattern."
   ]
  },
  {
   "cell_type": "markdown",
   "metadata": {},
   "source": [
    "5) <b><i>Input a number, count and print the total no of digits in that number using while loop.</i></b>"
   ]
  },
  {
   "cell_type": "code",
   "execution_count": 67,
   "metadata": {},
   "outputs": [
    {
     "name": "stdout",
     "output_type": "stream",
     "text": [
      "input a no:123\n",
      "The no of digits in the number is: 3\n"
     ]
    }
   ],
   "source": [
    "p=int(input(\"input a no:\")) #takes a number from user. \n",
    "count=0 #initializing count as 0.\n",
    "while(p>0):\n",
    "    count=count+1 #incrementing count.\n",
    "    p=p//10 #removes last digit after each count.\n",
    "print(\"The no of digits in the number is:\",count) #printing no.of digits in the number entered.\n",
    "\n",
    "    "
   ]
  },
  {
   "cell_type": "markdown",
   "metadata": {},
   "source": [
    "6) <b><i> Given two lists.Create a third list by picking an odd index element from the first list and even index elements from the second.</i></b>\n",
    "                \n",
    " <b><i>listOne=[3,6,9,12,15,18,21]</i></b> \n",
    "\n",
    " <b><i> listTwo=[4,8,12,16,20,24,28]</i></b>"
   ]
  },
  {
   "cell_type": "code",
   "execution_count": 90,
   "metadata": {},
   "outputs": [
    {
     "name": "stdout",
     "output_type": "stream",
     "text": [
      "Third list is: [6, 4, 12, 20, 28]\n"
     ]
    }
   ],
   "source": [
    "list1=[3,6,9,12,15,18,21] #creating list1 \n",
    "list2=[4,8,12,16,20,24,28] #creating list2\n",
    "list3=list1[1:2:2] #picking an odd index element from list1 to list3.\n",
    "for i in range(len(list2)): #iterate over length of list2.\n",
    "        if(i%2==0): #checking whether the index is even.\n",
    "            list3.append(list2[i]) #store even index elements to list3 from list2. \n",
    "print(\"Third list is:\",list3) #printing the list3.\n",
    "          \n"
   ]
  },
  {
   "cell_type": "markdown",
   "metadata": {},
   "source": [
    "7) <b><i>Program to get the smallest number from a list.</i></b>"
   ]
  },
  {
   "cell_type": "code",
   "execution_count": 120,
   "metadata": {},
   "outputs": [
    {
     "name": "stdout",
     "output_type": "stream",
     "text": [
      "smallest element in the list is:  6\n"
     ]
    }
   ],
   "source": [
    "listp=[50,60,78,23,45,7,6,20]  #creating a list.\n",
    "min=listp[0] #assigning 0th element to variable min.\n",
    "for i in listp: #iterate over listp\n",
    "    if(i<min): #in every iteration,check if element is less than min.\n",
    "        min=i #if yes set min as that element.\n",
    "        \n",
    "print(\"smallest element in the list is: \",min) #print the smallest element in the list."
   ]
  },
  {
   "cell_type": "markdown",
   "metadata": {},
   "source": [
    "8) <b><i>Reverse the list list=[10,20,30,40,50] using for loop and range.</i></b>"
   ]
  },
  {
   "cell_type": "code",
   "execution_count": 93,
   "metadata": {},
   "outputs": [
    {
     "name": "stdout",
     "output_type": "stream",
     "text": [
      "[50, 40, 30, 20, 10]\n"
     ]
    }
   ],
   "source": [
    "listA=[10,20,30,40,50] #creating a list.\n",
    "c=[] #creating an empty list\n",
    "for i in range(len(listA)): #iterate over length of listA.\n",
    "    x=len(listA)-1  \n",
    "    x=x-i # in every iteration decrement x.\n",
    "    c.append(listA[x]) #storing elements of listA to c in reverse order. \n",
    "print(c)"
   ]
  }
 ],
 "metadata": {
  "kernelspec": {
   "display_name": "Python 3",
   "language": "python",
   "name": "python3"
  },
  "language_info": {
   "codemirror_mode": {
    "name": "ipython",
    "version": 3
   },
   "file_extension": ".py",
   "mimetype": "text/x-python",
   "name": "python",
   "nbconvert_exporter": "python",
   "pygments_lexer": "ipython3",
   "version": "3.8.3"
  }
 },
 "nbformat": 4,
 "nbformat_minor": 4
}
